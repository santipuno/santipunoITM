{
 "cells": [
  {
   "cell_type": "code",
   "execution_count": 1,
   "id": "0dea13b1",
   "metadata": {},
   "outputs": [],
   "source": [
    "#Problem 1"
   ]
  },
  {
   "cell_type": "code",
   "execution_count": 9,
   "id": "44797d34",
   "metadata": {},
   "outputs": [],
   "source": [
    "products = {\n",
    "    \"americano\":{\"name\":\"Americano\",\"price\":150.00},\n",
    "    \"brewedcoffee\":{\"name\":\"Brewed Coffee\",\"price\":110.00},\n",
    "    \"cappuccino\":{\"name\":\"Cappuccino\",\"price\":170.00},\n",
    "    \"dalgona\":{\"name\":\"Dalgona\",\"price\":170.00},\n",
    "    \"espresso\":{\"name\":\"Espresso\",\"price\":140.00},\n",
    "    \"frappuccino\":{\"name\":\"Frappuccino\",\"price\":170.00},\n",
    "}"
   ]
  },
  {
   "cell_type": "code",
   "execution_count": 10,
   "id": "75447d1f",
   "metadata": {},
   "outputs": [],
   "source": [
    "def get_product(product):\n",
    "    return products[product]\n",
    "    "
   ]
  },
  {
   "cell_type": "code",
   "execution_count": 12,
   "id": "959b493c",
   "metadata": {},
   "outputs": [
    {
     "data": {
      "text/plain": [
       "{'name': 'Espresso', 'price': 140.0}"
      ]
     },
     "execution_count": 12,
     "metadata": {},
     "output_type": "execute_result"
    }
   ],
   "source": [
    "get_product('espresso')"
   ]
  },
  {
   "cell_type": "code",
   "execution_count": 9,
   "id": "a934c131",
   "metadata": {},
   "outputs": [],
   "source": [
    "#Problem 2"
   ]
  },
  {
   "cell_type": "code",
   "execution_count": 35,
   "id": "1d1e8a30",
   "metadata": {},
   "outputs": [],
   "source": [
    "def get_property(code, property):\n",
    "    return products[code][property]"
   ]
  },
  {
   "cell_type": "code",
   "execution_count": 36,
   "id": "4214b1ae",
   "metadata": {},
   "outputs": [
    {
     "data": {
      "text/plain": [
       "140.0"
      ]
     },
     "execution_count": 36,
     "metadata": {},
     "output_type": "execute_result"
    }
   ],
   "source": [
    "get_property(\"espresso\",\"price\")"
   ]
  },
  {
   "cell_type": "code",
   "execution_count": null,
   "id": "cff67aed",
   "metadata": {},
   "outputs": [],
   "source": [
    "#Problem 3-https://www.geeksforgeeks.org/python-seek-function/, classmate for show_once part, classmate for having to separate with open files"
   ]
  },
  {
   "cell_type": "code",
   "execution_count": null,
   "id": "443772f5",
   "metadata": {},
   "outputs": [],
   "source": []
  },
  {
   "cell_type": "code",
   "execution_count": null,
   "id": "84ed0caa",
   "metadata": {},
   "outputs": [],
   "source": []
  },
  {
   "cell_type": "code",
   "execution_count": null,
   "id": "e4ed8491",
   "metadata": {},
   "outputs": [],
   "source": []
  },
  {
   "cell_type": "code",
   "execution_count": null,
   "id": "6270a062",
   "metadata": {},
   "outputs": [],
   "source": []
  },
  {
   "cell_type": "code",
   "execution_count": 119,
   "id": "69aa1b7e",
   "metadata": {},
   "outputs": [],
   "source": [
    "def main():\n",
    "    orders=[]\n",
    "    end=[]\n",
    "    total=0\n",
    "    while True:\n",
    "        order=input(\"order please {product_code},{quantity}\")\n",
    "        if order==\"/\":\n",
    "            break\n",
    "        orders.append(order.split(\",\"))\n",
    "        show_once=list(set([x[0] for x in orders]))\n",
    "        for i in show_once:\n",
    "            amount=[i,0]\n",
    "            for each in orders:\n",
    "                if each[0]==i:\n",
    "                    amount[1]+=int(each[1]) \n",
    "            end.append(amount)  \n",
    "        for product in end:\n",
    "            name=get_property(product[0],\"name\")\n",
    "            subtotal=int(product[1])*(get_property(product[0],\"price\"))\n",
    "            total+=subtotal\n",
    "            with open(\"receipt.txt\",\"w\") as receipt:\n",
    "                receipt.write('''\n",
    "==\n",
    "CODE\\t\\t\\tNAME\\t\\t\\tQUANTITY\\t\\t\\tSUBTOTAL\n",
    "        \n",
    "        ''')   \n",
    "            with open(\"receipt.txt\",\"a\") as receipt:\n",
    "                receipt.write('\\n'+f'{product[0]}\\t\\t{name}\\t\\t{product[1]}\\t\\t\\t\\t{subtotal}')\n",
    "                    \n",
    "        with open('receipt.txt','a+') as receipt:\n",
    "            receipt.write(f'''\n",
    "                \n",
    "Total:\\t\\t\\t\\t\\t\\t\\t\\t\\t\\t{total})\n",
    "==\n",
    "        ''')\n",
    "            receipt.seek(0)\n",
    "            print(receipt.read())"
   ]
  },
  {
   "cell_type": "code",
   "execution_count": null,
   "id": "127881fe",
   "metadata": {},
   "outputs": [
    {
     "name": "stdout",
     "output_type": "stream",
     "text": [
      "order please {product_code},{quantity}espresso,2\n",
      "\n",
      "==\n",
      "CODE\t\t\tNAME\t\t\tQUANTITY\t\t\tSUBTOTAL\n",
      "        \n",
      "        \n",
      "espresso\t\tEspresso\t\t2\t\t\t\t280.0\n",
      "                \n",
      "Total:\t\t\t\t\t\t\t\t\t\t280.0)\n",
      "==\n",
      "        \n"
     ]
    }
   ],
   "source": [
    "main()"
   ]
  },
  {
   "cell_type": "markdown",
   "id": "1529c51c",
   "metadata": {},
   "source": []
  }
 ],
 "metadata": {
  "kernelspec": {
   "display_name": "Python 3",
   "language": "python",
   "name": "python3"
  },
  "language_info": {
   "codemirror_mode": {
    "name": "ipython",
    "version": 3
   },
   "file_extension": ".py",
   "mimetype": "text/x-python",
   "name": "python",
   "nbconvert_exporter": "python",
   "pygments_lexer": "ipython3",
   "version": "3.8.8"
  }
 },
 "nbformat": 4,
 "nbformat_minor": 5
}
