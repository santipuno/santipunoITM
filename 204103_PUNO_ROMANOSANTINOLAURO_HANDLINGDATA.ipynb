{
 "cells": [
  {
   "cell_type": "code",
   "execution_count": 1,
   "id": "db3ce1fe",
   "metadata": {},
   "outputs": [],
   "source": [
    "#Problem 1"
   ]
  },
  {
   "cell_type": "code",
   "execution_count": 2,
   "id": "b88ddd57",
   "metadata": {},
   "outputs": [],
   "source": [
    "social_graph = {\n",
    "    \"@bongolpoc\":{\"first_name\":\"Joselito\",\n",
    "                  \"last_name\":\"Olpoc\",\n",
    "                  \"following\":[\n",
    "                  ]\n",
    "    },\n",
    "    \"@joaquin\":  {\"first_name\":\"Joaquin\",\n",
    "                  \"last_name\":\"Gonzales\",\n",
    "                  \"following\":[\n",
    "                      \"@chums\",\"@jobenilagan\"\n",
    "                  ]\n",
    "    },\n",
    "    \"@chums\" : {\"first_name\":\"Matthew\",\n",
    "                \"last_name\":\"Uy\",\n",
    "                \"following\":[\n",
    "                    \"@bongolpoc\",\"@miketan\",\"@rudyang\",\"@joeilagan\"\n",
    "                ]\n",
    "    },\n",
    "    \"@jobenilagan\":{\"first_name\":\"Joben\",\n",
    "                   \"last_name\":\"Ilagan\",\n",
    "                   \"following\":[\n",
    "                    \"@eeebeee\",\"@joeilagan\",\"@chums\",\"@joaquin\"\n",
    "                   ]\n",
    "    },\n",
    "    \"@joeilagan\":{\"first_name\":\"Joe\",\n",
    "                  \"last_name\":\"Ilagan\",\n",
    "                  \"following\":[\n",
    "                    \"@eeebeee\",\"@jobenilagan\",\"@chums\"\n",
    "                  ]\n",
    "    },\n",
    "    \"@eeebeee\":  {\"first_name\":\"Elizabeth\",\n",
    "                  \"last_name\":\"Ilagan\",\n",
    "                  \"following\":[\n",
    "                    \"@jobenilagan\",\"@joeilagan\"\n",
    "                  ]\n",
    "    },\n",
    "}"
   ]
  },
  {
   "cell_type": "code",
   "execution_count": 1,
   "id": "0ebc2304",
   "metadata": {},
   "outputs": [],
   "source": [
    "def relationship_status(from_member,to_member,social_graph):\n",
    "    if to_member in social_graph[from_member][\"following\"] and from_member in social_graph[to_member][\"following\"]:\n",
    "        return \"friends\"\n",
    "    elif to_member in social_graph[from_member][\"following\"] :\n",
    "        return \"follower\"\n",
    "    elif from_member in social_graph[to_member][\"following\"]:\n",
    "        return \"followed by\"\n",
    "    else:\n",
    "        return None"
   ]
  },
  {
   "cell_type": "code",
   "execution_count": 2,
   "id": "e44dd817",
   "metadata": {},
   "outputs": [
    {
     "ename": "NameError",
     "evalue": "name 'social_graph' is not defined",
     "output_type": "error",
     "traceback": [
      "\u001b[0;31m---------------------------------------------------------------------------\u001b[0m",
      "\u001b[0;31mNameError\u001b[0m                                 Traceback (most recent call last)",
      "\u001b[0;32m<ipython-input-2-e547a36e229c>\u001b[0m in \u001b[0;36m<module>\u001b[0;34m\u001b[0m\n\u001b[0;32m----> 1\u001b[0;31m \u001b[0mrelationship_status\u001b[0m\u001b[0;34m(\u001b[0m\u001b[0;34m\"@chums\"\u001b[0m\u001b[0;34m,\u001b[0m\u001b[0;34m\"@joaquin\"\u001b[0m\u001b[0;34m,\u001b[0m\u001b[0msocial_graph\u001b[0m\u001b[0;34m)\u001b[0m\u001b[0;34m\u001b[0m\u001b[0;34m\u001b[0m\u001b[0m\n\u001b[0m",
      "\u001b[0;31mNameError\u001b[0m: name 'social_graph' is not defined"
     ]
    }
   ],
   "source": [
    "relationship_status(\"@chums\",\"@joaquin\",social_graph)"
   ]
  },
  {
   "cell_type": "code",
   "execution_count": 5,
   "id": "75921179",
   "metadata": {},
   "outputs": [],
   "source": [
    "#Problem 2 \n",
    "\n",
    "board4 = [\n",
    "['X','X','X'],\n",
    "['O','X','O'],\n",
    "['O','','O'],\n",
    "]\n",
    "\n",
    "board5 = [\n",
    "['X','X','O'],\n",
    "['O','X','O'],\n",
    "['X','','O'],\n",
    "]\n",
    "\n",
    "board6 = [\n",
    "['X','X','O'],\n",
    "['O','X','O'],\n",
    "['X','',''],\n",
    "]\n",
    "\n",
    "board1 = [\n",
    "['X','X','O'],\n",
    "['O','X','O'],\n",
    "['O','','X'],\n",
    "]\n",
    "\n",
    "board2 = [\n",
    "['X','X','O'],\n",
    "['O','X','O'],\n",
    "['','O','X'],\n",
    "]\n",
    "\n",
    "board3 = [\n",
    "['O','X','O'],\n",
    "['','O','X'],\n",
    "['X','X','O'],\n",
    "]"
   ]
  },
  {
   "cell_type": "code",
   "execution_count": 6,
   "id": "af6e1361",
   "metadata": {},
   "outputs": [],
   "source": [
    "def tic_tac_toe(board):\n",
    "    horizontal_set=[set(i) for i in board]\n",
    "    downup_set=set([board[len(board)-1-i][i] for i, v in enumerate(board)])\n",
    "    updown_set=set([board[i][i] for i, v in enumerate(board)])\n",
    "    vertical_set=[set(i) for i in zip(*board)]\n",
    "    \n",
    "    for x in horizontal_set:\n",
    "        if len(x)==1:\n",
    "            if x=={'X'}:\n",
    "                return \"X\"\n",
    "                break\n",
    "            elif x=={'O'}:\n",
    "                return \"O\"\n",
    "                break\n",
    "            \n",
    "            else:\n",
    "                pass\n",
    "            \n",
    "            \n",
    "    for x in vertical_set:\n",
    "        if len(x)==1:\n",
    "            if x=={'X'}:\n",
    "                return \"X\"\n",
    "                break\n",
    "            elif x=={'O'}:\n",
    "                return \"O\"\n",
    "                break\n",
    "                \n",
    "            else:\n",
    "                pass\n",
    "            \n",
    "            \n",
    "            \n",
    " \n",
    "    if len(downup_set)==1:\n",
    "        if downup_set=={'X'}:\n",
    "            return \"X\"\n",
    "               \n",
    "        elif downup_set=={'O'}:\n",
    "            return \"O\"\n",
    "             \n",
    "        \n",
    "\n",
    "       \n",
    "    elif len(updown_set)==1:\n",
    "        if updown_set=={'X'}:\n",
    "            return \"X\"\n",
    "              \n",
    "        elif updown_set=={'O'}:\n",
    "            return \"O\"\n",
    "                \n",
    "\n",
    "    else:\n",
    "        return None\n",
    "        \n"
   ]
  },
  {
   "cell_type": "code",
   "execution_count": 7,
   "id": "78d4a929",
   "metadata": {},
   "outputs": [
    {
     "data": {
      "text/plain": [
       "'O'"
      ]
     },
     "execution_count": 7,
     "metadata": {},
     "output_type": "execute_result"
    }
   ],
   "source": [
    "tic_tac_toe(board3)"
   ]
  },
  {
   "cell_type": "code",
   "execution_count": 25,
   "id": "de4036b9",
   "metadata": {},
   "outputs": [],
   "source": [
    "#Problem 3 source:https://www.programiz.com/python-programming/methods/list/index https://www.programiz.com/python-programming/methods/dictionary/values, classmate about while func\n",
    "\n",
    "legs = {\n",
    "     (\"upd\",\"admu\"):{\n",
    "         \"travel_time_mins\":10\n",
    "     },\n",
    "     (\"admu\",\"dlsu\"):{\n",
    "         \"travel_time_mins\":35\n",
    "     },\n",
    "     (\"dlsu\",\"upd\"):{\n",
    "         \"travel_time_mins\":55\n",
    "     }\n",
    "}\n"
   ]
  },
  {
   "cell_type": "code",
   "execution_count": 23,
   "id": "d15e5c1c",
   "metadata": {},
   "outputs": [],
   "source": [
    "def eta (legs,source,destination):\n",
    "    \n",
    "    time=0\n",
    "    \n",
    "    begin=[scheme[0] for scheme in legs]\n",
    "    end=[scheme[1] for scheme in legs]\n",
    "    \n",
    "    time+= +(list(legs.values())[begin.index(source)][\"travel_time_mins\"])\n",
    "    \n",
    "    while True:\n",
    "        if destination==end[begin.index(source)]:\n",
    "            break\n",
    "        source=end[begin.index(source)]\n",
    "        time+=+(list(legs.values())[begin.index(source)][\"travel_time_mins\"])\n",
    "        \n",
    "    return time\n",
    "    "
   ]
  },
  {
   "cell_type": "code",
   "execution_count": 24,
   "id": "9eccb27a",
   "metadata": {},
   "outputs": [
    {
     "data": {
      "text/plain": [
       "100"
      ]
     },
     "execution_count": 24,
     "metadata": {},
     "output_type": "execute_result"
    }
   ],
   "source": [
    "eta(legs,\"upd\",\"upd\")"
   ]
  },
  {
   "cell_type": "code",
   "execution_count": null,
   "id": "de5e881d",
   "metadata": {},
   "outputs": [],
   "source": []
  },
  {
   "cell_type": "code",
   "execution_count": null,
   "id": "1461e8aa",
   "metadata": {},
   "outputs": [],
   "source": []
  },
  {
   "cell_type": "code",
   "execution_count": null,
   "id": "2c73ecd5",
   "metadata": {},
   "outputs": [],
   "source": []
  },
  {
   "cell_type": "code",
   "execution_count": null,
   "id": "f062d307",
   "metadata": {},
   "outputs": [],
   "source": []
  }
 ],
 "metadata": {
  "kernelspec": {
   "display_name": "Python 3",
   "language": "python",
   "name": "python3"
  }
 },
 "nbformat": 4,
 "nbformat_minor": 5
}
