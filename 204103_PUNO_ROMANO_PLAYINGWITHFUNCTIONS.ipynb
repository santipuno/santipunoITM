{
 "cells": [
  {
   "cell_type": "code",
   "execution_count": 10,
   "id": "52306140",
   "metadata": {},
   "outputs": [],
   "source": []
  },
  {
   "cell_type": "code",
   "execution_count": 146,
   "id": "2c49c9e4",
   "metadata": {},
   "outputs": [],
   "source": [
    "def problem_1(i):\n",
    "    product=1\n",
    "    while i>0:\n",
    "        product*=i\n",
    "        i-=1\n",
    "    return product"
   ]
  },
  {
   "cell_type": "code",
   "execution_count": 149,
   "id": "2c7dad0d",
   "metadata": {},
   "outputs": [
    {
     "data": {
      "text/plain": [
       "5040"
      ]
     },
     "execution_count": 149,
     "metadata": {},
     "output_type": "execute_result"
    }
   ],
   "source": [
    "problem_1(7)"
   ]
  },
  {
   "cell_type": "code",
   "execution_count": 31,
   "id": "0dcb88b3",
   "metadata": {
    "scrolled": true
   },
   "outputs": [
    {
     "name": "stdout",
     "output_type": "stream",
     "text": [
      "2\n"
     ]
    }
   ],
   "source": [
    "i=5\n",
    "while i>=2:\n",
    "    product=i*(i-1)\n",
    "    i=i-1\n",
    "print(product)"
   ]
  },
  {
   "cell_type": "code",
   "execution_count": 62,
   "id": "5782780a",
   "metadata": {},
   "outputs": [],
   "source": [
    "#PROBLEM 2 source:https://stackoverflow.com/questions/31910117/guess-my-number-game-with-limited-number-of-guesses"
   ]
  },
  {
   "cell_type": "code",
   "execution_count": 55,
   "id": "d02be65d",
   "metadata": {},
   "outputs": [],
   "source": [
    "def problem_2(magic_word):\n",
    "    counter=0\n",
    "    for counter in range(0,3,1):\n",
    "        guess=input()\n",
    "        if counter>3:\n",
    "            return\"0\"\n",
    "            break\n",
    "        if guess==magic_word:\n",
    "            return 1\n",
    "            break\n",
    "        else:\n",
    "            continue\n",
    "            counter+=1\n",
    "    print(\"0\")\n",
    "    "
   ]
  },
  {
   "cell_type": "code",
   "execution_count": 56,
   "id": "272e6b7e",
   "metadata": {},
   "outputs": [
    {
     "name": "stdout",
     "output_type": "stream",
     "text": [
      "s\n",
      "s\n",
      "s\n",
      "0\n"
     ]
    }
   ],
   "source": [
    "problem_2(\"santi\")"
   ]
  },
  {
   "cell_type": "code",
   "execution_count": 59,
   "id": "a247a962",
   "metadata": {},
   "outputs": [
    {
     "name": "stdout",
     "output_type": "stream",
     "text": [
      "Marco\n"
     ]
    },
    {
     "data": {
      "text/plain": [
       "'1'"
      ]
     },
     "execution_count": 59,
     "metadata": {},
     "output_type": "execute_result"
    }
   ],
   "source": [
    "problem_2(\"Marco\")"
   ]
  },
  {
   "cell_type": "code",
   "execution_count": 60,
   "id": "c9b746f7",
   "metadata": {},
   "outputs": [],
   "source": [
    "#Problem 3"
   ]
  },
  {
   "cell_type": "code",
   "execution_count": 96,
   "id": "08dc4bfa",
   "metadata": {},
   "outputs": [],
   "source": [
    "def problem_3 (temp,original_format,new_format):\n",
    "    if (original_format==\"Fahrenheit\") and (new_format==\"Celsius\"):\n",
    "        new_format=(temp - 32)* 5/9\n",
    "        return new_format\n",
    "    \n",
    "    elif (original_format==\"Fahrenheit\") and (new_format==\"Kelvin\"):\n",
    "        new_format=(temp-32) * 5/9 + 273.15 \n",
    "        return new_format\n",
    "\n",
    "    elif (original_format==\"Celsius\") and (new_format==\"Kelvin\"):\n",
    "        new_format=temp+273.15\n",
    "        return new_format\n",
    "\n",
    "    elif (original_format==\"Celsius\") and (new_format==\"Fahrenheit\"):\n",
    "        new_format=(temp* 9/5) + 32\n",
    "        return new_format\n",
    "\n",
    "    elif (original_format==\"Kelvin\") and (new_format==\"Celsius\"):\n",
    "        new_format=temp-273.15\n",
    "        return new_format\n",
    "    \n",
    "    else:\n",
    "        new_format=(temp-273.15) * 9/5 + 32\n",
    "        return new_format\n",
    "\n",
    "        "
   ]
  },
  {
   "cell_type": "code",
   "execution_count": 118,
   "id": "a529fe32",
   "metadata": {},
   "outputs": [
    {
     "data": {
      "text/plain": [
       "32.0"
      ]
     },
     "execution_count": 118,
     "metadata": {},
     "output_type": "execute_result"
    }
   ],
   "source": [
    "problem_3(0.0,\"Celsius\",\"Fahrenheit\")"
   ]
  },
  {
   "cell_type": "code",
   "execution_count": 153,
   "id": "56c6c705",
   "metadata": {},
   "outputs": [],
   "source": [
    "def problem_4(centavos):\n",
    "            piso=centavos//100\n",
    "            twenty_five=(centavos%100)//25\n",
    "            ten=((centavos%100)%25)//10\n",
    "            five=(((centavos%100)%25)%10)//5\n",
    "            one=((((centavos%100)%25)%10)%5)//1\n",
    "            \n",
    "            return f\"1P:{piso}/25C:{twenty_five}/10C:{ten}/5C:{five}/1C:{one}\""
   ]
  },
  {
   "cell_type": "code",
   "execution_count": 154,
   "id": "c9310d1f",
   "metadata": {},
   "outputs": [
    {
     "data": {
      "text/plain": [
       "'1P:1/25C:0/10C:0/5C:1/1C:0'"
      ]
     },
     "execution_count": 154,
     "metadata": {},
     "output_type": "execute_result"
    }
   ],
   "source": [
    "problem_4(105)"
   ]
  },
  {
   "cell_type": "code",
   "execution_count": 116,
   "id": "85ee8a3f",
   "metadata": {},
   "outputs": [
    {
     "name": "stdout",
     "output_type": "stream",
     "text": [
      "1P:0/25C:2/10C:1/5C:1/1C:4\n"
     ]
    }
   ],
   "source": [
    "problem_4(69)"
   ]
  },
  {
   "cell_type": "code",
   "execution_count": 119,
   "id": "38333bfa",
   "metadata": {},
   "outputs": [],
   "source": [
    "#Problem 5 source:https://www.programiz.com/python-programming/methods/string/swapcase#:~:text=String%20upper()-,Python%20String%20swapcase(),given%20string%2C%20and%20returns%20it."
   ]
  },
  {
   "cell_type": "code",
   "execution_count": 150,
   "id": "e569c03c",
   "metadata": {},
   "outputs": [],
   "source": [
    "def problem_5(my_string):\n",
    "    return my_string.swapcase()"
   ]
  },
  {
   "cell_type": "code",
   "execution_count": 151,
   "id": "cccf0162",
   "metadata": {},
   "outputs": [
    {
     "data": {
      "text/plain": [
       "'hELLO'"
      ]
     },
     "execution_count": 151,
     "metadata": {},
     "output_type": "execute_result"
    }
   ],
   "source": [
    "problem_5(\"Hello\")"
   ]
  },
  {
   "cell_type": "code",
   "execution_count": 137,
   "id": "9e56571c",
   "metadata": {},
   "outputs": [
    {
     "name": "stdout",
     "output_type": "stream",
     "text": [
      "MY naMe Is SaNtI\n"
     ]
    }
   ],
   "source": [
    "problem_5(\"my NAmE iS sAnTi\")"
   ]
  },
  {
   "cell_type": "code",
   "execution_count": null,
   "id": "23a7521d",
   "metadata": {},
   "outputs": [],
   "source": []
  }
 ],
 "metadata": {
  "kernelspec": {
   "display_name": "Python 3",
   "language": "python",
   "name": "python3"
  },
  "language_info": {
   "codemirror_mode": {
    "name": "ipython",
    "version": 3
   },
   "file_extension": ".py",
   "mimetype": "text/x-python",
   "name": "python",
   "nbconvert_exporter": "python",
   "pygments_lexer": "ipython3",
   "version": "3.8.8"
  }
 },
 "nbformat": 4,
 "nbformat_minor": 5
}
