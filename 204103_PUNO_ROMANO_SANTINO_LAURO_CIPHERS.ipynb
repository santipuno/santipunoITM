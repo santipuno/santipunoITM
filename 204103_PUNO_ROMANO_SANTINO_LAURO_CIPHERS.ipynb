{
 "cells": [
  {
   "cell_type": "code",
   "execution_count": 1,
   "id": "236c8b6c",
   "metadata": {},
   "outputs": [],
   "source": [
    "#Problem 1    "
   ]
  },
  {
   "cell_type": "code",
   "execution_count": null,
   "id": "e74be29b",
   "metadata": {},
   "outputs": [],
   "source": []
  },
  {
   "cell_type": "code",
   "execution_count": null,
   "id": "abd89d60",
   "metadata": {},
   "outputs": [],
   "source": []
  },
  {
   "cell_type": "code",
   "execution_count": null,
   "id": "35588061",
   "metadata": {},
   "outputs": [],
   "source": []
  },
  {
   "cell_type": "code",
   "execution_count": 8,
   "id": "e86d304d",
   "metadata": {},
   "outputs": [],
   "source": [
    "def problem_1(message,shift):\n",
    "    final=\"\"\n",
    "    for character in message:\n",
    "        if character==\" \":\n",
    "            final+=\" \"\n",
    "        elif ord(character)+shift>90 and ord(character)+shift<=115:\n",
    "            final+= chr(ord(character)+shift-26)\n",
    "    \n",
    "        elif ord(character)+shift>115:\n",
    "            final+= chr((ord(character)+shift)-(26*(1+((((ord(character))+shift)-90)//26))))\n",
    "           \n",
    "        else:\n",
    "            final+= chr((ord(character)+shift))\n",
    "    return final"
   ]
  },
  {
   "cell_type": "code",
   "execution_count": 9,
   "id": "f119491a",
   "metadata": {},
   "outputs": [
    {
     "data": {
      "text/plain": [
       "'LQIRUPDWLRQ DJH'"
      ]
     },
     "execution_count": 9,
     "metadata": {},
     "output_type": "execute_result"
    }
   ],
   "source": [
    "    problem_1(\"INFORMATION AGE\",3)"
   ]
  },
  {
   "cell_type": "code",
   "execution_count": 305,
   "id": "1c3acc28",
   "metadata": {},
   "outputs": [],
   "source": [
    "#Problem 2 "
   ]
  },
  {
   "cell_type": "code",
   "execution_count": 15,
   "id": "c985e4b5",
   "metadata": {},
   "outputs": [],
   "source": []
  },
  {
   "cell_type": "code",
   "execution_count": null,
   "id": "9c5cdeff",
   "metadata": {},
   "outputs": [],
   "source": []
  },
  {
   "cell_type": "code",
   "execution_count": 17,
   "id": "f5d0e266",
   "metadata": {},
   "outputs": [],
   "source": [
    "def problem_2(message,shift):\n",
    "    encoded_message=\"\"\n",
    "    counter=0\n",
    "    new=\"\"\n",
    "    if len(message)%shift!=0:\n",
    "        while len(message)%shift!=0:\n",
    "            message+=\"_\"\n",
    "   \n",
    "    while counter<len(message):\n",
    "        position= (counter // shift) + (len(message) // shift) * (counter % shift)\n",
    "        encoded_message+=message[position]\n",
    "        counter+=1\n",
    "        \n",
    "    return encoded_message"
   ]
  },
  {
   "cell_type": "code",
   "execution_count": 18,
   "id": "9a55e636",
   "metadata": {},
   "outputs": [
    {
     "data": {
      "text/plain": [
       "'IRIANMOGFANEOT__'"
      ]
     },
     "execution_count": 18,
     "metadata": {},
     "output_type": "execute_result"
    }
   ],
   "source": [
    "problem_2(\"INFORMATION_AGE\",4)"
   ]
  },
  {
   "cell_type": "code",
   "execution_count": 299,
   "id": "347cc1ec",
   "metadata": {},
   "outputs": [],
   "source": [
    "#Problem 3"
   ]
  },
  {
   "cell_type": "code",
   "execution_count": 339,
   "id": "e65d23c3",
   "metadata": {},
   "outputs": [],
   "source": [
    "def problem_3(message,key):\n",
    "    new=\"\"\n",
    "    counter=0\n",
    "    final=\"\"\n",
    "    while len(new)!=len(message):\n",
    "        for character in key:\n",
    "            if len(new)!=len(message):\n",
    "                new+=character \n",
    "    while len(final)!=len(message):\n",
    "        for i in new:\n",
    "            if len(final)!=len(message):\n",
    "                new_shift=ord(i)-65\n",
    "                shift_message=message[counter]\n",
    "                final+=problem_1(shift_message,new_shift)\n",
    "                counter+=1\n",
    "    return final\n",
    "        "
   ]
  },
  {
   "cell_type": "code",
   "execution_count": 342,
   "id": "efcf4807",
   "metadata": {},
   "outputs": [
    {
     "data": {
      "text/plain": [
       "'GINABL HT ETCUQ'"
      ]
     },
     "execution_count": 342,
     "metadata": {},
     "output_type": "execute_result"
    }
   ],
   "source": [
    "problem_3(\"FOOBAR IS FUBAR\",\"BUZZ\")"
   ]
  },
  {
   "cell_type": "code",
   "execution_count": null,
   "id": "25d81646",
   "metadata": {},
   "outputs": [],
   "source": [
    "#Problem 4"
   ]
  },
  {
   "cell_type": "code",
   "execution_count": 573,
   "id": "b07539cb",
   "metadata": {},
   "outputs": [],
   "source": [
    "def problem_4(message,shift):\n",
    "    decoded_message=message\n",
    "    counter=0\n",
    "    \n",
    "    while counter!=len(message):\n",
    "        letter=message[counter]\n",
    "        position=(counter // shift) + (len(message) // shift) * (counter % shift)\n",
    "        counter+=1\n",
    "        decoded_message=decoded_message[0:position]+ letter +decoded_message[position+1:len(message)]\n",
    "        \n",
    "    return decoded_message"
   ]
  },
  {
   "cell_type": "code",
   "execution_count": 574,
   "id": "7c77b8e4",
   "metadata": {},
   "outputs": [
    {
     "data": {
      "text/plain": [
       "'INFORMATION_AGE'"
      ]
     },
     "execution_count": 574,
     "metadata": {},
     "output_type": "execute_result"
    }
   ],
   "source": [
    "problem_4(\"IMNNA_FTAOIGROE\", 3)"
   ]
  },
  {
   "cell_type": "code",
   "execution_count": null,
   "id": "f16fa44f",
   "metadata": {},
   "outputs": [],
   "source": []
  },
  {
   "cell_type": "code",
   "execution_count": null,
   "id": "b04cec7c",
   "metadata": {},
   "outputs": [],
   "source": []
  }
 ],
 "metadata": {
  "kernelspec": {
   "display_name": "Python 3",
   "language": "python",
   "name": "python3"
  },
  "language_info": {
   "codemirror_mode": {
    "name": "ipython",
    "version": 3
   },
   "file_extension": ".py",
   "mimetype": "text/x-python",
   "name": "python",
   "nbconvert_exporter": "python",
   "pygments_lexer": "ipython3",
   "version": "3.8.8"
  }
 },
 "nbformat": 4,
 "nbformat_minor": 5
}
